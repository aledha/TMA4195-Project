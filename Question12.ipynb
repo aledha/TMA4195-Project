{
 "cells": [
  {
   "cell_type": "markdown",
   "metadata": {},
   "source": [
    "## Compute Eigenvalues to Analyze Stability"
   ]
  },
  {
   "cell_type": "code",
   "execution_count": null,
   "metadata": {},
   "outputs": [],
   "source": [
    "import numpy as np"
   ]
  },
  {
   "cell_type": "code",
   "execution_count": 96,
   "metadata": {},
   "outputs": [],
   "source": [
    "def assertNegativeEvals(n, D, C, B):\n",
    "    h = 1/n\n",
    "    diag = [-2/h**2 + 2*i**2 - B/D for i in range(0,n+1)]\n",
    "    supdiag = [1/h**2 - i**2 - i for i in range(0,n)]\n",
    "    subdiag = [1/h**2 - i**2 + i for i in range(1,n+1)]\n",
    "    M = np.diag(diag, 0)\n",
    "    M += np.diag(supdiag, 1)\n",
    "    M += np.diag(subdiag, -1)\n",
    "    M[0,:] = 0\n",
    "    M[0,0] = 1/h**2 - B/D\n",
    "    M[0,1] = -2/h**2\n",
    "    M[0,2] = 1/h**2\n",
    "\n",
    "    M[-1,:] = 0\n",
    "    M[-1,-1] = -2/h - B/D\n",
    "    M[-1,-2] = 2/h\n",
    "    M *= D/C\n",
    "\n",
    "    assert(np.max(np.linalg.eigvals(M)) < 0)\n",
    "\n",
    "\n",
    "B_out = 1.45\n",
    "D = 0.3\n",
    "rho = 1.293\n",
    "c = 1000\n",
    "C = c * rho\n",
    "\n",
    "ns = np.arange(10,1000,50)\n",
    "\n",
    "for n in ns:\n",
    "    assertNegativeEvals(n, D, C, B_out)"
   ]
  },
  {
   "cell_type": "code",
   "execution_count": null,
   "metadata": {},
   "outputs": [],
   "source": []
  }
 ],
 "metadata": {
  "kernelspec": {
   "display_name": "base",
   "language": "python",
   "name": "python3"
  },
  "language_info": {
   "codemirror_mode": {
    "name": "ipython",
    "version": 3
   },
   "file_extension": ".py",
   "mimetype": "text/x-python",
   "name": "python",
   "nbconvert_exporter": "python",
   "pygments_lexer": "ipython3",
   "version": "3.9.16"
  }
 },
 "nbformat": 4,
 "nbformat_minor": 2
}
