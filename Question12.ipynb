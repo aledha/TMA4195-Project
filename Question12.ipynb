{
 "cells": [
  {
   "cell_type": "markdown",
   "metadata": {},
   "source": [
    "## Compute Eigenvalues to Analyze Stability"
   ]
  },
  {
   "cell_type": "code",
   "execution_count": 1,
   "metadata": {},
   "outputs": [],
   "source": [
    "import numpy as np\n",
    "import matplotlib.pyplot as plt"
   ]
  },
  {
   "cell_type": "code",
   "execution_count": 2,
   "metadata": {},
   "outputs": [],
   "source": [
    "def ndiag(consts, offsets, N):\n",
    "    \"\"\"Generate a matrix with arbitrary number of constant diagonals, 0 elsewhere\n",
    "\n",
    "    Args:\n",
    "        consts (list of floats):    list containing floats on diagonal\n",
    "        offsets (list of ints):     list of offsets. Corresponds to the consts list\n",
    "        N (int):                    length of array\n",
    "\n",
    "    Returns:\n",
    "        A (N x N matrix):           matrix with diagonals as specified\n",
    "    \"\"\"\n",
    "    diags = []\n",
    "    for i in range(len(consts)):\n",
    "        diags.append(consts[i] * np.ones(N - np.abs(offsets[i])))\n",
    "\n",
    "    A = np.zeros((N,N))\n",
    "    for i in range(len(diags)):\n",
    "        A += np.diag(diags[i], offsets[i])\n",
    "    return A"
   ]
  },
  {
   "cell_type": "code",
   "execution_count": 21,
   "metadata": {},
   "outputs": [
    {
     "data": {
      "text/plain": [
       "array([-395.63323957, -388.04083013, -380.44558349, -372.8875287 ,\n",
       "       -365.38197502, -357.93666671, -350.55616521, -343.24342915,\n",
       "       -336.00050999, -328.82890157, -321.72973329, -314.70388473,\n",
       "       -307.75205755, -300.87482277, -294.07265286, -287.34594439,\n",
       "       -280.69503433, -274.12021204, -267.62172841, -261.19980271,\n",
       "       -254.85462805, -248.5863756 , -242.39519803, -236.28123218,\n",
       "       -230.24460136, -224.28541719, -218.40378107, -212.5997855 ,\n",
       "       -206.87351517, -201.22504782, -195.65445507, -190.16180304,\n",
       "       -184.74715297, -179.41056169, -174.15208204, -168.97176329,\n",
       "       -163.86965144, -158.84578954, -153.90021791, -149.03297441,\n",
       "       -144.24409463, -139.53361205, -134.90155826, -130.34796304,\n",
       "       -125.87285454, -121.47625939, -117.15820278, -112.91870859,\n",
       "       -108.75779948, -104.67549695, -100.67182143,  -96.74679233,\n",
       "        -92.90042812,  -89.13274638,  -85.44376386,  -81.8334965 ,\n",
       "        -78.30195951,  -74.84916739,  -71.47513398,  -68.17987246,\n",
       "        -64.96339545,  -61.82571496,  -58.76684249,  -55.786789  ,\n",
       "        -52.88556496,  -50.06318037,  -47.31964478,  -44.65496732,\n",
       "        -42.06915668,  -39.56222117,  -37.13416873,  -34.7850069 ,\n",
       "        -32.51474291,  -30.3233836 ,  -28.21093553,  -26.17740492,\n",
       "        -24.22279766,  -22.34711939,  -20.5503754 ,  -18.83257071,\n",
       "        -17.19371001,  -14.15283716,  -12.7508317 ,  -11.42778276,\n",
       "        -15.63379757,   -9.01854694,   -6.92505467,   -5.1470336 ,\n",
       "         -1.03890436,   -1.17459219,   -7.93234312,  -10.1836895 ,\n",
       "         -4.37613169,   -3.06982069,   -2.53401621,   -1.39528888,\n",
       "         -5.99664051,   -3.68378978,   -2.07621247,   -1.69644497,\n",
       "         -0.60808067])"
      ]
     },
     "execution_count": 21,
     "metadata": {},
     "output_type": "execute_result"
    }
   ],
   "source": [
    "def buildM(n, D, C, B):\n",
    "    h = 1/n\n",
    "    diag = [-2/h**2 + 2*i**2 - B/D for i in range(0,n+1)]\n",
    "    supdiag = [1/h**2 - i**2 - i for i in range(0,n)]\n",
    "    subdiag = [1/h**2 - i**2 + i for i in range(1,n+1)]\n",
    "    M = np.diag(diag, 0)\n",
    "    M += np.diag(supdiag, 1)\n",
    "    M += np.diag(subdiag, -1)\n",
    "    M *= D/C\n",
    "    \n",
    "    return np.linalg.eigvals(M)\n",
    "\n",
    "buildM(100,0.01,1,1)"
   ]
  },
  {
   "cell_type": "code",
   "execution_count": null,
   "metadata": {},
   "outputs": [],
   "source": []
  }
 ],
 "metadata": {
  "kernelspec": {
   "display_name": "base",
   "language": "python",
   "name": "python3"
  },
  "language_info": {
   "codemirror_mode": {
    "name": "ipython",
    "version": 3
   },
   "file_extension": ".py",
   "mimetype": "text/x-python",
   "name": "python",
   "nbconvert_exporter": "python",
   "pygments_lexer": "ipython3",
   "version": "3.9.16"
  }
 },
 "nbformat": 4,
 "nbformat_minor": 2
}
