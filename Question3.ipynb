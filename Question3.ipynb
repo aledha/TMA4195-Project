{
 "cells": [
  {
   "cell_type": "markdown",
   "metadata": {},
   "source": [
    "# Question 3, work in progress"
   ]
  },
  {
   "cell_type": "code",
   "execution_count": null,
   "metadata": {},
   "outputs": [],
   "source": [
    "import numpy as np"
   ]
  },
  {
   "cell_type": "markdown",
   "metadata": {},
   "source": [
    "# Assumption of no clouds"
   ]
  },
  {
   "cell_type": "code",
   "execution_count": 60,
   "metadata": {},
   "outputs": [
    {
     "name": "stdout",
     "output_type": "stream",
     "text": [
      "36.23347969737066\n",
      "45.15960425522606\n",
      "217.40239960739996\n",
      "36.958407933257995\n",
      "182.7621034029596\n",
      "TOTAL 331.316273664604 341.3\n",
      "Solution:  [334.29583657 290.39195297]\n"
     ]
    }
   ],
   "source": [
    "# SHORT WAVE\n",
    "\n",
    "P_sol= 341.3\n",
    "r_SM = 0.1065\n",
    "\n",
    "a_O3 = 0.08\n",
    "\n",
    "P_abs_ozone = a_O3*P_sol\n",
    "\n",
    "P_after_ozone = P_sol - P_abs_ozone\n",
    "\n",
    "\n",
    "a_SW = 0.1451\n",
    "\n",
    "r_SE = 0.17\n",
    "\n",
    "P_refl_atm = r_SM*P_after_ozone\n",
    "\n",
    "P_abs_atm = (a_SW)*(1-r_SM)*P_after_ozone\n",
    "\n",
    "P_trans_atm = (1 - (a_O3 + a_SW))*(1- r_SM)*P_after_ozone\n",
    "\n",
    "P_refl_earth = r_SE * P_trans_atm\n",
    "P_abs_earth = (1 - r_SE)*P_trans_atm\n",
    "\n",
    "P_abs_atm = P_abs_atm + a_SW*(1-r_SE)*P_refl_earth \n",
    "\n",
    "P_refl_atm = P_refl_atm + r_SM*(1-a_SW)*(1-r_SE)*P_refl_earth \n",
    "\n",
    "P_abs_ozone = P_abs_ozone + a_O3*P_refl_atm\n",
    "\n",
    "P_abs_earth = P_abs_earth + (1-r_SE)*(r_SM*(1-a_SW)*(1-r_SE)*P_refl_earth )\n",
    "\n",
    "\n",
    "\n",
    "print(P_refl_atm)\n",
    "print(P_abs_atm)\n",
    "print(P_trans_atm)\n",
    "print(P_refl_earth)\n",
    "print(P_abs_earth)\n",
    "\n",
    "print(\"TOTAL\", P_refl_atm + P_abs_atm + P_refl_earth + P_abs_earth + P_abs_ozone , P_sol)\n",
    "\n",
    "# LONG WAVE\n",
    "\n",
    "sigma = 5.67*10**(-8) #W m-2 K-4\n",
    "\n",
    "\n",
    "\n",
    "epsilon_A = 0.875\n",
    "\n",
    "f_A = 0.618\n",
    "\n",
    "\n",
    "alpha = 3\n",
    "beta = 4\n",
    "\n",
    "a_LW = 0.8258\n",
    "#P_E0 = sigma*T_E**4\n",
    "#P_A0 = epsilon_A*sigma*T_A**4\n",
    "#P_A0_down = f_A*P_A0\n",
    "#P_A0_up = (1-f_A)*P_A0\n",
    "#P_EtoA = - alpha*(T_A -T_E)\n",
    "#P_latent = -beta*(T_A-T_E)\n",
    "\n",
    "\n",
    "\n",
    "from scipy.optimize import fsolve\n",
    "\n",
    "def eqns(variables):\n",
    "    T_E, T_A = variables\n",
    "\n",
    "    P_non_rad = - (alpha + beta) * (T_A - T_E)\n",
    "    #               P_abs_earth   +     P_A0_down    -    (P_EtoA + P_latent)    - P_E0\n",
    "    eqn1 = P_abs_earth + f_A*epsilon_A*sigma* T_A**4 + P_non_rad - sigma* T_E**4\n",
    "\n",
    "    #     P_abs_atm  +       a_LW*P_E0    +  (P_EtoA + P_latent)     - P_A0\n",
    "    eqn2 = (P_abs_atm + P_abs_ozone) + a_LW*sigma* T_E**4 - P_non_rad - epsilon_A*sigma* T_A**4\n",
    "\n",
    "    return [eqn1, eqn2]\n",
    "\n",
    "T_init_guess = [298.0, 278.0]\n",
    "solution, info , ier, mesg = fsolve(eqns, T_init_guess, xtol=1e-8, full_output=True)\n",
    "\n",
    "print(\"Solution: \", solution)\n",
    "\n"
   ]
  },
  {
   "cell_type": "markdown",
   "metadata": {},
   "source": [
    "# Assumption with clouds"
   ]
  },
  {
   "cell_type": "code",
   "execution_count": 36,
   "metadata": {},
   "outputs": [
    {
     "name": "stdout",
     "output_type": "stream",
     "text": [
      "61.915233\n",
      "59.16464476370001\n",
      "220.2201222363\n",
      "Solution:  [300.61406609 283.4579788 ]\n"
     ]
    }
   ],
   "source": [
    "CC = 0.66\n",
    "r_SC = 0.22\n",
    "r_LC = 0.195\n",
    "a_LC = 0.622\n",
    "a_SC = 0.1239\n",
    "\n",
    "                # atm refect    + clouds reflect\n",
    "P_refl_atm = r_SM*(1-CC)*P_sol + r_SC*CC*P_sol\n",
    "print(P_refl_atm)\n",
    "                #\n",
    "P_abs_atm =  (a_O3 + a_SW)*(1-CC)*(1 -r_SM)*P_sol  + (a_O3 + a_SC)*(1-r_SC)*CC*P_sol\n",
    "print(P_abs_atm)\n",
    "\n",
    "P_trans_atm = P_sol - P_refl_atm - P_abs_atm\n",
    "print(P_trans_atm)\n",
    "\n",
    "P_refl_earth = r_SE * P_trans_atm\n",
    "P_abs_earth = (1 - r_SE)*P_trans_atm\n",
    "\n",
    "a_LW_total = a_LW*(1-CC) + a_LC*CC\n",
    "epsilon_A_total = epsilon_A*(1-CC) + a_LC*CC\n",
    "\n",
    "def eqns(variables):\n",
    "    T_E, T_A = variables\n",
    "\n",
    "    P_non_rad = - (alpha + beta) * (T_A - T_E)\n",
    "    #               P_abs_earth   +     P_A0_down    -    (P_EtoA + P_latent)    - P_E0\n",
    "    eqn1 = P_abs_earth + f_A*epsilon_A_total*sigma* T_A**4 + P_non_rad - sigma* T_E**4\n",
    "\n",
    "    #     P_abs_atm  +       a_LW*P_E0    +  (P_EtoA + P_latent)     - P_A0\n",
    "    eqn2 = P_abs_atm + a_LW_total*sigma* T_E**4 - P_non_rad - epsilon_A_total*sigma* T_A**4\n",
    "\n",
    "    return [eqn1, eqn2]\n",
    "\n",
    "T_init_guess = [298.0, 288.0]\n",
    "solution, info , ier, mesg = fsolve(eqns, T_init_guess, xtol=1e-8, full_output=True)\n",
    "\n",
    "print(\"Solution: \", solution)\n",
    "\n"
   ]
  }
 ],
 "metadata": {
  "kernelspec": {
   "display_name": "base",
   "language": "python",
   "name": "python3"
  },
  "language_info": {
   "codemirror_mode": {
    "name": "ipython",
    "version": 3
   },
   "file_extension": ".py",
   "mimetype": "text/x-python",
   "name": "python",
   "nbconvert_exporter": "python",
   "pygments_lexer": "ipython3",
   "version": "3.8.8"
  }
 },
 "nbformat": 4,
 "nbformat_minor": 2
}
