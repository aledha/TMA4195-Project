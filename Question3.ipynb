{
 "cells": [
  {
   "cell_type": "markdown",
   "metadata": {},
   "source": [
    "# Question 3, work in progress"
   ]
  },
  {
   "cell_type": "markdown",
   "metadata": {},
   "source": [
    "# Assumption of no clouds"
   ]
  },
  {
   "cell_type": "code",
   "execution_count": 17,
   "metadata": {},
   "outputs": [
    {
     "name": "stdout",
     "output_type": "stream",
     "text": [
      "40.91291078592925 240.66418109370144 4.357224998701465 8.228684870704976\n",
      "329.7186875362649\n",
      "Solution:  [293.15514942 276.92010785]\n"
     ]
    }
   ],
   "source": [
    "# SHORT WAVE\n",
    "\n",
    "P_sol= 341.3\n",
    "r_SM = 0.1065\n",
    "\n",
    "a_O3 = 0.08\n",
    "\n",
    "a_SW = 0.1451\n",
    "\n",
    "r_SE = 0.17\n",
    "\n",
    "P_refl_atm = r_SM*P_sol\n",
    "\n",
    "P_abs_atm = (a_SW+ a_O3)*(1-r_SM)*P_sol\n",
    "\n",
    "#print(P_refl_atm, P_abs_atm)\n",
    "\n",
    "P_trans_atm = (1 - (a_SW + a_O3))*(1- r_SM)*P_sol\n",
    "\n",
    "\n",
    "P_refl_earth_total = (r_SE*P_trans_atm)/(1-r_SE*r_SM)\n",
    "\n",
    "P_abs_earth_total = (P_trans_atm)/(1-r_SE*r_SM)\n",
    "\n",
    "\n",
    "\n",
    "\n",
    "P_refl_atm_total =r_SM*(r_SE*P_trans_atm)/(1-r_SM*r_SE)\n",
    "\n",
    "P_abs_atm_total =  (a_SW+a_O3)*(1-r_SM)*P_refl_earth_total\n",
    "\n",
    "\n",
    "print(P_refl_earth_total, P_abs_earth_total, P_refl_atm_total, P_abs_atm_total)\n",
    "print(P_refl_earth_total + P_abs_earth_total + P_refl_earth_total - (1-(a_O3+ a_SW)*(1-r_SM)*P_refl_earth_total))\n",
    "\n",
    "\n",
    "# LONG WAVE\n",
    "\n",
    "sigma = 5.67*10**(-8) #W m-2 K-4\n",
    "\n",
    "epsilon_A = 0.875\n",
    "\n",
    "f_A = 0.618\n",
    "\n",
    "\n",
    "alpha = 3\n",
    "beta = 4\n",
    "\n",
    "a_LW = 0.8258\n",
    "\n",
    "#P_E0 = sigma*T_E**4\n",
    "#P_A0 = epsilon_A*sigma*T_A**4\n",
    "#P_A0_down = f_A*P_A0\n",
    "#P_A0_up = (1-f_A)*P_A0\n",
    "#P_EtoA = - alpha*(T_A -T_E)\n",
    "#P_latent = -beta*(T_A-T_E)\n",
    "\n",
    "\n",
    "\n",
    "from scipy.optimize import fsolve\n",
    "\n",
    "def eqns(variables):\n",
    "    T_E, T_A = variables\n",
    "\n",
    "    P_non_rad = (alpha + beta) * (T_E - T_A)\n",
    "    #               P_abs_earth   +     P_A0_down    -    (P_EtoA + P_latent)    - P_E0\n",
    "    eqn1 = P_abs_earth_total + epsilon_A*sigma* T_A**4 - P_non_rad - sigma* T_E**4\n",
    "    #     P_abs_atm  +       a_LW*P_E0    +  (P_EtoA + P_latent)     - P_A0\n",
    "    eqn2 = (P_refl_earth_total) + a_LW*sigma* T_E**4 + P_non_rad - (1+f_A)*epsilon_A*sigma* T_A**4 - (1 - (a_SW + a_O3))*(1- r_SM)*P_refl_earth_total\n",
    "\n",
    "    return [eqn1, eqn2]\n",
    "\n",
    "T_init_guess = [298.0, 278.0]\n",
    "solution, info , ier, mesg = fsolve(eqns, T_init_guess, xtol=1e-8, full_output=True)\n",
    "\n",
    "print(\"Solution: \", solution)\n",
    "\n",
    "\n",
    "\n"
   ]
  },
  {
   "cell_type": "code",
   "execution_count": 16,
   "metadata": {},
   "outputs": [
    {
     "data": {
      "text/plain": [
       "array([20.15514942,  3.92010785])"
      ]
     },
     "execution_count": 16,
     "metadata": {},
     "output_type": "execute_result"
    }
   ],
   "source": [
    "solution - 273 # Celsius"
   ]
  },
  {
   "cell_type": "code",
   "execution_count": 18,
   "metadata": {},
   "outputs": [
    {
     "name": "stdout",
     "output_type": "stream",
     "text": [
      "Total Reflected to Space (P_ref_total): 83.52 W/m²\n",
      "Total Absorbed by Atmosphere (P_abs_atm_total): 68.64 W/m²\n",
      "Total Absorbed by Earth (P_abs_earth_total): 189.13 W/m²\n",
      "Sum of Reflected and Absorbed: 341.30 W/m²\n",
      "Solution:  [291.24627207 279.3485702 ]\n",
      "Equilibrium Earth Temperature (T_E): 291.25 K\n",
      "Equilibrium Atmosphere Temperature (T_A): 279.35 K\n",
      "[18.24627207  6.3485702 ]\n"
     ]
    }
   ],
   "source": [
    "# SHORT WAVE\n",
    "\n",
    "P_sol = 341.3\n",
    "r_SM = 0.1065\n",
    "a_O3 = 0.08\n",
    "a_SW = 0.1451\n",
    "r_SE = 0.17\n",
    "\n",
    "# Initial Reflections and Absorptions\n",
    "P_refl_atm_initial = r_SM * P_sol  # Initial reflection by atmosphere\n",
    "P_abs_atm_initial = (a_SW + a_O3) * (1 - r_SM) * P_sol  # Initial absorption by atmosphere\n",
    "P_trans_atm_initial = (1 - (a_SW + a_O3)) * (1 - r_SM) * P_sol  # Transmitted to Earth\n",
    "\n",
    "# Calculate Total Reflected Energy using Geometric Series Formula\n",
    "R_total = (r_SM + r_SE - 2 * r_SM * r_SE) / (1 - r_SM * r_SE)\n",
    "P_ref_total = R_total * P_sol\n",
    "\n",
    "# Total Absorbed Energy\n",
    "P_abs_total = P_sol - P_ref_total\n",
    "\n",
    "# Distribute Absorbed Energy\n",
    "P_abs_atm_total = P_abs_atm_initial  # 68.6 W/m²\n",
    "P_abs_earth_total = P_abs_total - P_abs_atm_total  # 257.9 -68.6≈189.3 W/m²\n",
    "\n",
    "print(f\"Total Reflected to Space (P_ref_total): {P_ref_total:.2f} W/m²\")\n",
    "print(f\"Total Absorbed by Atmosphere (P_abs_atm_total): {P_abs_atm_total:.2f} W/m²\")\n",
    "print(f\"Total Absorbed by Earth (P_abs_earth_total): {P_abs_earth_total:.2f} W/m²\")\n",
    "print(f\"Sum of Reflected and Absorbed: {P_ref_total + P_abs_atm_total + P_abs_earth_total:.2f} W/m²\")\n",
    "# LONG WAVE\n",
    "\n",
    "from scipy.optimize import fsolve\n",
    "\n",
    "sigma = 5.67e-8  # W/m²/K⁴\n",
    "epsilon_A = 0.875\n",
    "f_A = 0.618\n",
    "alpha = 3\n",
    "beta = 4\n",
    "a_LW = 0.8258\n",
    "\n",
    "\n",
    "def eqns(variables):\n",
    "    T_E, T_A = variables\n",
    "\n",
    "    # Heat Fluxes\n",
    "    P_non_rad = (alpha + beta) * (T_E - T_A)\n",
    "\n",
    "    # Emissions\n",
    "    P_E0 = sigma * T_E**4\n",
    "    P_A0 = epsilon_A * sigma * T_A**4\n",
    "\n",
    "    # Equation 1: Earth Energy Balance\n",
    "    eqn1 = P_abs_earth_total + P_A0 - P_non_rad - P_E0\n",
    "\n",
    "    # Equation 2: Atmosphere Energy Balance\n",
    "    eqn2 = P_abs_atm_total + a_LW * P_E0 + P_non_rad - (1 + f_A) * P_A0\n",
    "\n",
    "    return [eqn1, eqn2]\n",
    "\n",
    "# Initial guesses\n",
    "T_init_guess = [288.0, 290.0]  # K\n",
    "\n",
    "# Solve the system\n",
    "solution, info, ier, mesg = fsolve(eqns, T_init_guess, xtol=1e-8, full_output=True)\n",
    "\n",
    "if ier == 1:\n",
    "    T_E, T_A = solution\n",
    "    print(\"Solution: \", solution)\n",
    "    print(f\"Equilibrium Earth Temperature (T_E): {T_E:.2f} K\")\n",
    "    print(f\"Equilibrium Atmosphere Temperature (T_A): {T_A:.2f} K\")\n",
    "else:\n",
    "    print(\"Solution not found:\", mesg)\n",
    "\n",
    "print(solution - 273)"
   ]
  },
  {
   "cell_type": "markdown",
   "metadata": {},
   "source": [
    "# Assumption with clouds"
   ]
  },
  {
   "cell_type": "code",
   "execution_count": 3,
   "metadata": {},
   "outputs": [
    {
     "name": "stdout",
     "output_type": "stream",
     "text": [
      "61.915233\n",
      "59.16464476370001\n",
      "220.2201222363\n",
      "Solution:  [300.61406609 283.4579788 ]\n"
     ]
    }
   ],
   "source": [
    "CC = 0.66\n",
    "r_SC = 0.22\n",
    "r_LC = 0.195\n",
    "a_LC = 0.622\n",
    "a_SC = 0.1239\n",
    "\n",
    "                # atm refect    + clouds reflect\n",
    "P_refl_atm = r_SM*(1-CC)*P_sol + r_SC*CC*P_sol\n",
    "print(P_refl_atm)\n",
    "                #\n",
    "P_abs_atm =  (a_O3 + a_SW)*(1-CC)*(1 -r_SM)*P_sol  + (a_O3 + a_SC)*(1-r_SC)*CC*P_sol\n",
    "print(P_abs_atm)\n",
    "\n",
    "P_trans_atm = P_sol - P_refl_atm - P_abs_atm\n",
    "print(P_trans_atm)\n",
    "\n",
    "P_refl_earth = r_SE * P_trans_atm\n",
    "P_abs_earth = (1 - r_SE)*P_trans_atm\n",
    "\n",
    "a_LW_total = a_LW*(1-CC) + a_LC*CC\n",
    "epsilon_A_total = epsilon_A*(1-CC) + a_LC*CC\n",
    "\n",
    "def eqns(variables):\n",
    "    T_E, T_A = variables\n",
    "\n",
    "    P_non_rad = - (alpha + beta) * (T_A - T_E)\n",
    "    #               P_abs_earth   +     P_A0_down    -    (P_EtoA + P_latent)    - P_E0\n",
    "    eqn1 = P_abs_earth + f_A*epsilon_A_total*sigma* T_A**4 + P_non_rad - sigma* T_E**4\n",
    "\n",
    "    #     P_abs_atm  +       a_LW*P_E0    +  (P_EtoA + P_latent)     - P_A0\n",
    "    eqn2 = P_abs_atm + a_LW_total*sigma* T_E**4 - P_non_rad - epsilon_A_total*sigma* T_A**4\n",
    "\n",
    "    return [eqn1, eqn2]\n",
    "\n",
    "T_init_guess = [298.0, 288.0]\n",
    "solution, info , ier, mesg = fsolve(eqns, T_init_guess, xtol=1e-8, full_output=True)\n",
    "\n",
    "print(\"Solution: \", solution)\n",
    "\n"
   ]
  },
  {
   "cell_type": "code",
   "execution_count": 4,
   "metadata": {},
   "outputs": [
    {
     "data": {
      "text/plain": [
       "array([27.61406609, 10.4579788 ])"
      ]
     },
     "execution_count": 4,
     "metadata": {},
     "output_type": "execute_result"
    }
   ],
   "source": [
    "solution - 273"
   ]
  }
 ],
 "metadata": {
  "kernelspec": {
   "display_name": "base",
   "language": "python",
   "name": "python3"
  },
  "language_info": {
   "codemirror_mode": {
    "name": "ipython",
    "version": 3
   },
   "file_extension": ".py",
   "mimetype": "text/x-python",
   "name": "python",
   "nbconvert_exporter": "python",
   "pygments_lexer": "ipython3",
   "version": "3.12.7"
  }
 },
 "nbformat": 4,
 "nbformat_minor": 2
}
