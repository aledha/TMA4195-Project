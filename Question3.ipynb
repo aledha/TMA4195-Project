{
 "cells": [
  {
   "cell_type": "markdown",
   "metadata": {},
   "source": [
    "# Question 3, work in progress"
   ]
  },
  {
   "cell_type": "code",
   "execution_count": 80,
   "metadata": {},
   "outputs": [],
   "source": [
    "import numpy as np\n",
    "\n",
    "import matplotlib.pyplot as plt\n",
    "import matplotlib\n",
    "\n",
    "# Set the font globally\n",
    "matplotlib.rcParams['font.family'] = 'serif'  # e.g., 'sans-serif', 'serif', 'monospace'\n",
    "matplotlib.rcParams['font.size'] = 12         # Set font size globally\n",
    "matplotlib.rcParams['mathtext.fontset'] = 'stix'  # For math text consistency with LaTeX\n",
    "matplotlib.rcParams['font.serif'] = ['Times New Roman']  # Use specific font\n"
   ]
  },
  {
   "cell_type": "markdown",
   "metadata": {},
   "source": [
    "# Assumption of no clouds"
   ]
  },
  {
   "cell_type": "code",
   "execution_count": 81,
   "metadata": {},
   "outputs": [
    {
     "name": "stdout",
     "output_type": "stream",
     "text": [
      "Solution:  [309.00676263 294.88487838]\n"
     ]
    }
   ],
   "source": [
    "# SHORT WAVE\n",
    "\n",
    "P_sol= 341.3\n",
    "r_SM = 0.1065\n",
    "\n",
    "a_O3 = 0.08\n",
    "\n",
    "a_SW = 0.1451\n",
    "\n",
    "r_SE = 0.17\n",
    "\n",
    "P_refl_atm = r_SM*P_sol\n",
    "\n",
    "P_abs_atm = (a_SW+ a_O3)*(1-r_SM)*P_sol\n",
    "\n",
    "P_trans_atm = (1 - (a_SW + a_O3))*(1- r_SM)*P_sol\n",
    "\n",
    "P_refl_earth_total = (r_SE*P_trans_atm)/(1-r_SE*r_SM)\n",
    "\n",
    "P_abs_earth_total = (P_trans_atm)/(1-r_SE*r_SM)\n",
    "\n",
    "# LONG WAVE\n",
    "\n",
    "sigma = 5.67*10**(-8) #W m-2 K-4\n",
    "epsilon_A = 0.875\n",
    "f_A = 0.618\n",
    "alpha = 3\n",
    "beta = 4\n",
    "a_LW = 0.8258\n",
    "\n",
    "#P_E0 = sigma*T_E**4\n",
    "#P_A0 = epsilon_A*sigma*T_A**4\n",
    "#P_A0_down = f_A*P_A0\n",
    "#P_A0_up = (1-f_A)*P_A0\n",
    "#P_EtoA = - alpha*(T_A -T_E)\n",
    "#P_latent = -beta*(T_A-T_E)\n",
    "\n",
    "from scipy.optimize import fsolve\n",
    "def eqns(variables, a_SW_total=(a_O3+a_SW)):\n",
    "    T_E, T_A = variables\n",
    "\n",
    "    #P_non_rad = (alpha + beta) * (T_E - T_A)\n",
    "    #               P_abs_earth   +     P_A0_down    -    (P_EtoA + P_latent)    - P_E0\n",
    "    #eqn1 = P_abs_earth_total + epsilon_A*sigma* T_A**4 - P_non_rad - sigma* T_E**4\n",
    "    #     P_abs_atm  +       a_LW*P_E0    +  (P_EtoA + P_latent)     - P_A0\n",
    "    #eqn2 = (P_refl_earth_total) + a_LW*sigma* T_E**4 + P_non_rad - (1+f_A)*epsilon_A*sigma* T_A**4 - (1 - (a_SW + a_O3))*(1- r_SM)*P_refl_earth_total\n",
    "    #eqn2 = (a_O3+a_SW)*(1-r_SM)*P_sol + (a_O3 + a_SW)*(r_SE*P_trans_atm)/(1-r_SE*r_SM) + a_LW*sigma* T_E**4 + P_non_rad - (1+f_A)*epsilon_A*sigma* T_A**4 - (1 - (a_SW + a_O3))*(1- r_SM)*P_refl_earth_total\n",
    "    eqn1 = ((1 - (a_O3+a_SW))*(1- r_SM)*P_sol)/(1-r_SE*r_SM) + epsilon_A*sigma* T_A**4 - (alpha + beta) * (T_E - T_A) - sigma*T_E**4\n",
    "    eqn2 =  (a_O3 + a_SW)*(1-r_SM)*P_sol + r_SE*(1 - (a_O3 + a_SW))*(1- r_SM)*P_sol/(1-r_SE*r_SM)+ a_LW*sigma*T_E**4 + (alpha + beta) * (T_E - T_A) - (1+f_A)*epsilon_A*sigma* T_A**4 - (1 - (a_SW_total))*(1-r_SM)*r_SE*(1 - (a_O3 + a_SW))*(1- r_SM)*P_sol/(1-r_SE*r_SM)\n",
    "\n",
    "    return [eqn1, eqn2]\n",
    "\n",
    "T_init_guess = [298.0, 278.0]\n",
    "solution, info , ier, mesg = fsolve(eqns, T_init_guess, xtol=1e-8, full_output=True)\n",
    "\n",
    "print(\"Solution: \", solution)"
   ]
  },
  {
   "cell_type": "code",
   "execution_count": 82,
   "metadata": {},
   "outputs": [
    {
     "data": {
      "text/plain": [
       "array([35.85676263, 21.73487838])"
      ]
     },
     "execution_count": 82,
     "metadata": {},
     "output_type": "execute_result"
    }
   ],
   "source": [
    "solution - 273.15 # Celsius"
   ]
  },
  {
   "cell_type": "markdown",
   "metadata": {},
   "source": [
    "# Sensitivity\n"
   ]
  },
  {
   "cell_type": "code",
   "execution_count": 83,
   "metadata": {},
   "outputs": [],
   "source": [
    "FIGSIZE = (4, 3)"
   ]
  },
  {
   "cell_type": "code",
   "execution_count": 84,
   "metadata": {},
   "outputs": [],
   "source": [
    "def eqns(vars, a_SW_total):\n",
    "    T_E, T_A = vars\n",
    "\n",
    "    # P_trans_atm = (1 - (a_SW_total))*(1- r_SM)*P\n",
    "    # P_refl_earth_total = (r_SE*P_trans_atm)/(1-r_SE*r_SM)\n",
    "    # P_abs_earth_total = (P_trans_atm)/(1-r_SE*r_SM)\n",
    "    # P_non_rad = (alpha + beta) * (T_E - T_A)\n",
    "    #eq1 = ((1 - (a_SW_total))*(1- r_SM)*P)/(1-r_SE*r_SM) + epsilon_A*sigma* T_A**4 - (alpha + beta) * (T_E - T_A) - sigma*T_E**4\n",
    "    #eq2 =  (a_SW_total)*(1-r_SM)*P_sol + (a_SW_total)*(r_SE*(1 - (a_SW_total))*(1- r_SM)*P)/(1-r_SE*r_SM)+ a_LW*sigma*T_E**4 + (alpha + beta) * (T_E - T_A) - (1+f)*epsilon_A*sigma* T_A**4 #- (1 - (a_SW_total))*(1- r_SM)*P_refl_earth_total\n",
    "\n",
    "    eqn1 = ((1 -  a_SW_total)*(1- r_SM)*P_sol)/(1-r_SE*r_SM) + epsilon_A*sigma* T_A**4 - (alpha + beta) * (T_E - T_A) - sigma*T_E**4\n",
    "    eqn2 =   a_SW_total*(1-r_SM)*P_sol + r_SE*(1 -  a_SW_total)*(1- r_SM)*P_sol/(1-r_SE*r_SM)+ a_LW*sigma*T_E**4 + (alpha + beta) * (T_E - T_A) - (1+f_A)*epsilon_A*sigma* T_A**4 - (1 -  a_SW_total)*(1-r_SM)*r_SE*(1 -  a_SW_total)*(1- r_SM)*P_sol/(1-r_SE*r_SM)\n",
    "\n",
    "    return [eqn1, eqn2]\n",
    "\n",
    "a_SW_base_values = np.linspace(0.1, 0.95/(0.1451+0.08 ), 1000) * (0.1451+0.08 ) \n",
    "\n",
    "T_E_values = []\n",
    "T_A_values = []\n",
    "\n",
    "# Initial guess for T_E and T_A\n",
    "initial_guess = [300, 280]\n",
    "\n",
    "for a_SW_total in a_SW_base_values:\n",
    "    try:\n",
    "        solution = fsolve(eqns, initial_guess, args=(a_SW_total,))\n",
    "        T_E, T_A = solution\n",
    "        T_E_values.append(T_E)\n",
    "        T_A_values.append(T_A)\n",
    "        initial_guess = solution  # Update the guess\n",
    "    except Exception as e:\n",
    "        print(f\"Failed to converge at a_SW={a_SW_total}: {e}\")\n",
    "        T_E_values.append(np.nan)\n",
    "        T_A_values.append(np.nan)\n",
    "\n",
    "# Compute numerical derivatives\n",
    "dT_E_da_SW = np.gradient(T_E_values, a_SW_base_values)\n",
    "dT_A_da_SW = np.gradient(T_A_values, a_SW_base_values)\n"
   ]
  },
  {
   "cell_type": "code",
   "execution_count": 85,
   "metadata": {},
   "outputs": [
    {
     "data": {
      "image/png": "[encoded data removed]",
      "text/plain": [
       "<Figure size 400x300 with 1 Axes>"
      ]
     },
     "metadata": {},
     "output_type": "display_data"
    }
   ],
   "source": [
    "\n",
    "# Plot temperatures vs a_SW\n",
    "plt.figure(figsize=FIGSIZE)\n",
    "plt.plot(a_SW_base_values, T_E_values, color = \"orange\", label=r'$T_E$')\n",
    "plt.plot(a_SW_base_values, T_A_values, color=\"c\",label=r'$T_A$')\n",
    "plt.xlabel(r'$a_{atm}$')\n",
    "plt.ylabel('Temperature (K)')\n",
    "plt.title(r'Temperature vs Short-wave absorptivity $a_{atm}$')\n",
    "plt.legend()\n",
    "plt.grid(True)\n",
    "plt.tight_layout()\n",
    "#plt.savefig(\"./temperature_absorp.png\", dpi=300)"
   ]
  },
  {
   "cell_type": "code",
   "execution_count": 86,
   "metadata": {},
   "outputs": [
    {
     "data": {
      "image/png": "[encoded data removed]",
      "text/plain": [
       "<Figure size 400x300 with 1 Axes>"
      ]
     },
     "metadata": {},
     "output_type": "display_data"
    }
   ],
   "source": [
    "\n",
    "# Plot sensitivities\n",
    "plt.figure(figsize=FIGSIZE)\n",
    "plt.plot(a_SW_base_values, dT_E_da_SW, color=\"orange\", label=r'$dT_E/dr_{SM}$')\n",
    "plt.plot(a_SW_base_values, dT_A_da_SW,  color=\"c\",label=r'$dT_A/dr_{SM}$')\n",
    "plt.xlabel(r'$a_{atm}$ ')\n",
    "plt.ylabel(r'Sensitivity (K per unit $a_{atm}$)')\n",
    "plt.title(r'Sensitivity of temperature to $a_{atm}$')\n",
    "plt.legend(loc='lower left')\n",
    "plt.grid(True)\n",
    "plt.tight_layout()\n",
    "#plt.savefig(\"./sensitivity_absorp.png\", dpi=300)\n"
   ]
  },
  {
   "cell_type": "code",
   "execution_count": 87,
   "metadata": {},
   "outputs": [],
   "source": [
    "import numpy as np\n",
    "import matplotlib.pyplot as plt\n",
    "from scipy.optimize import fsolve\n",
    "from scipy.misc import derivative\n",
    "\n",
    "# Constants\n",
    "sigma = 5.67e-8  # Stefan-Boltzmann constant, W/(m^2·K^4)\n",
    "\n",
    "# Parameters\n",
    "P = 341.3        # Average solar flux, W/m^2\n",
    "epsilon_A = 0.875\n",
    "alpha = 3        # Sensible heat flux coefficient, W/(m^2·K)\n",
    "beta = 4         # Latent heat flux coefficient, W/(m^2·K)\n",
    "a_LW = 0.8258    # Long-wave absorptivity of the atmosphere\n",
    "f = 0.618        # Asymmetry factor\n",
    "r_SE = 0.17      # Short-wave Earth reflectivity\n",
    "r_SM = 0.1065    # Short-wave molecular scattering coefficient\n",
    "# Total short-wave absorptivity (including ozone)\n",
    "a_SW_total = (0.1451+0.08 )\n",
    "def equations(vars, r_SM):\n",
    "    T_E, T_A = vars\n",
    "\n",
    "    # P_trans_atm = (1 - (a_SW_total))*(1- r_SM)*P\n",
    "    # P_refl_earth_total = (r_SE*P_trans_atm)/(1-r_SE*r_SM)\n",
    "    # P_abs_earth_total = (P_trans_atm)/(1-r_SE*r_SM)\n",
    "\n",
    "    # P_non_rad = (alpha + beta) * (T_E - T_A)\n",
    "\n",
    "    #eq1 = ((1 - (a_SW_total))*(1- r_SM)*P)/(1-r_SE*r_SM) + epsilon_A*sigma* T_A**4 - (alpha + beta) * (T_E - T_A) - sigma*T_E**4\n",
    "    #eq2 =  (a_SW_total)*(1-r_SM)*P_sol + (a_SW_total)*(r_SE*(1 - (a_SW_total))*(1- r_SM)*P)/(1-r_SE*r_SM)+ a_LW*sigma*T_E**4 + (alpha + beta) * (T_E - T_A) - (1+f)*epsilon_A*sigma* T_A**4 #- (1 - (a_SW_total))*(1- r_SM)*P_refl_earth_total\n",
    "\n",
    "    eqn1 = ((1 -  a_SW_total)*(1- r_SM)*P_sol)/(1-r_SE*r_SM) + epsilon_A*sigma* T_A**4 - (alpha + beta) * (T_E - T_A) - sigma*T_E**4\n",
    "    eqn2 =   a_SW_total*(1-r_SM)*P_sol + r_SE*(1 -  a_SW_total)*(1- r_SM)*P_sol/(1-r_SE*r_SM)+ a_LW*sigma*T_E**4 + (alpha + beta) * (T_E - T_A) - (1+f_A)*epsilon_A*sigma* T_A**4 - (1 -  a_SW_total)*(1-r_SM)*r_SE*(1 -  a_SW_total)*(1- r_SM)*P_sol/(1-r_SE*r_SM)\n",
    "\n",
    "\n",
    "\n",
    "    return [eqn1, eqn2]\n",
    "\n",
    "\n",
    "\n",
    "# Base a_SW (excluding ozone)\n",
    "r_SM_base_values = np.linspace(0.1, 0.95/r_SM, 1000) * (r_SM) # Varying the other short-wave absorptivity\n",
    "\n",
    "# Total a_SW including ozone\n",
    "#a_SW_values = a_O3 + a_SW_base_values\n",
    "\n",
    "# Lists to store the results\n",
    "T_E_values = []\n",
    "T_A_values = []\n",
    "\n",
    "# Initial guess for T_E and T_A\n",
    "initial_guess = [300, 280]\n",
    "\n",
    "for r_SE in r_SM_base_values:\n",
    "    try:\n",
    "        solution = fsolve(equations, initial_guess, args=(r_SE,))\n",
    "        T_E, T_A = solution\n",
    "        T_E_values.append(T_E)\n",
    "        T_A_values.append(T_A)\n",
    "        initial_guess = solution  # Update the guess\n",
    "    except Exception as e:\n",
    "        print(f\"Failed to converge at a_SW={a_SW_total}: {e}\")\n",
    "        T_E_values.append(np.nan)\n",
    "        T_A_values.append(np.nan)\n",
    "\n",
    "# Compute numerical derivatives\n",
    "dT_E_dr_SM = np.gradient(T_E_values, r_SM_base_values)\n",
    "dT_A_dr_SM = np.gradient(T_A_values, r_SM_base_values)\n"
   ]
  },
  {
   "cell_type": "code",
   "execution_count": 88,
   "metadata": {},
   "outputs": [
    {
     "data": {
      "image/png": "[encoded data removed]",
      "text/plain": [
       "<Figure size 400x300 with 1 Axes>"
      ]
     },
     "metadata": {},
     "output_type": "display_data"
    }
   ],
   "source": [
    "\n",
    "# Plot temperatures vs a_SW\n",
    "plt.figure(figsize=FIGSIZE)\n",
    "plt.plot(r_SM_base_values, T_E_values, color=\"green\", label=r'$T_E$')\n",
    "plt.plot(r_SM_base_values, T_A_values, color=\"m\", label=r'$T_A$')\n",
    "plt.xlabel(r'$r_{SM}$')\n",
    "plt.ylabel(r'Temperature (K)')\n",
    "plt.title(r'Temperature vs molecular scattering $r_{SM}$')\n",
    "plt.legend()\n",
    "plt.grid(True)\n",
    "plt.tight_layout()\n",
    "#plt.savefig(\"./temperature_rSM.png\", dpi=300)"
   ]
  },
  {
   "cell_type": "code",
   "execution_count": 89,
   "metadata": {},
   "outputs": [
    {
     "data": {
      "image/png": "[encoded data removed]",
      "text/plain": [
       "<Figure size 400x300 with 1 Axes>"
      ]
     },
     "metadata": {},
     "output_type": "display_data"
    }
   ],
   "source": [
    "\n",
    "# Plot sensitivities\n",
    "plt.figure(figsize=FIGSIZE)\n",
    "plt.plot(r_SM_base_values, dT_E_dr_SM, color=\"green\", label=r'$dT_E/dr_{SM}$')\n",
    "plt.plot(r_SM_base_values, dT_A_dr_SM, color=\"m\",label=r'$dT_A/dr_{SM}$')\n",
    "plt.xlabel(r'$r_{SM}$')\n",
    "plt.ylabel(r'Sensitivity (K per unit $r_{SM}$)')\n",
    "plt.title(r'Sensitivity of temperature to $r_{SM}$')\n",
    "plt.legend(loc='lower left')\n",
    "plt.grid(True)\n",
    "plt.tight_layout()\n",
    "#plt.savefig(\"./sensitivity_rSM.png\", dpi=300)"
   ]
  },
  {
   "cell_type": "markdown",
   "metadata": {},
   "source": [
    "# Assumption with clouds"
   ]
  },
  {
   "cell_type": "code",
   "execution_count": 90,
   "metadata": {},
   "outputs": [
    {
     "name": "stdout",
     "output_type": "stream",
     "text": [
      "61.915233\n",
      "59.16464476370001\n",
      "220.2201222363\n",
      "Solution:  [219.7252387 209.2074594]\n"
     ]
    }
   ],
   "source": [
    "CC = 0.66\n",
    "r_SC = 0.22\n",
    "r_LC = 0.195\n",
    "a_LC = 0.622\n",
    "a_SC = 0.1239\n",
    "\n",
    "                # atm refect    + clouds reflect\n",
    "P_refl_atm = r_SM*(1-CC)*P_sol + r_SC*CC*P_sol\n",
    "print(P_refl_atm)\n",
    "                #\n",
    "P_abs_atm =  (a_O3 + a_SW)*(1-CC)*(1 -r_SM)*P_sol  + (a_O3 + a_SC)*(1-r_SC)*CC*P_sol\n",
    "print(P_abs_atm)\n",
    "\n",
    "P_trans_atm = P_sol - P_refl_atm - P_abs_atm\n",
    "print(P_trans_atm)\n",
    "\n",
    "P_refl_earth = r_SE * P_trans_atm\n",
    "P_abs_earth = (1 - r_SE)*P_trans_atm\n",
    "\n",
    "a_LW_total = a_LW*(1-CC) + a_LC*CC\n",
    "epsilon_A_total = epsilon_A*(1-CC) + a_LC*CC\n",
    "\n",
    "def eqns(variables):\n",
    "    T_E, T_A = variables\n",
    "\n",
    "    P_non_rad = - (alpha + beta) * (T_A - T_E)\n",
    "    #               P_abs_earth   +     P_A0_down    -    (P_EtoA + P_latent)    - P_E0\n",
    "    eqn1 = P_abs_earth + f_A*epsilon_A_total*sigma* T_A**4 + P_non_rad - sigma* T_E**4\n",
    "\n",
    "    #     P_abs_atm  +       a_LW*P_E0    +  (P_EtoA + P_latent)     - P_A0\n",
    "    eqn2 = P_abs_atm + a_LW_total*sigma* T_E**4 - P_non_rad - epsilon_A_total*sigma* T_A**4\n",
    "\n",
    "    return [eqn1, eqn2]\n",
    "\n",
    "T_init_guess = [298.0, 288.0]\n",
    "solution, info , ier, mesg = fsolve(eqns, T_init_guess, xtol=1e-8, full_output=True)\n",
    "\n",
    "print(\"Solution: \", solution)\n",
    "\n"
   ]
  },
  {
   "cell_type": "code",
   "execution_count": 91,
   "metadata": {},
   "outputs": [
    {
     "data": {
      "text/plain": [
       "array([-53.2747613, -63.7925406])"
      ]
     },
     "execution_count": 91,
     "metadata": {},
     "output_type": "execute_result"
    }
   ],
   "source": [
    "solution - 273"
   ]
  },
  {
   "cell_type": "code",
   "execution_count": 92,
   "metadata": {},
   "outputs": [
    {
     "name": "stdout",
     "output_type": "stream",
     "text": [
      "313.996 313.996\n",
      "341.2999999999999\n",
      "P 3.604214346845613 0.7382125770647642\n",
      "341.2999999999999\n",
      "0.07861963945739739\n",
      "3: 341.29999999999984\n",
      "Space 59.93779677696842\n",
      "Solution:  [297.78959039 285.46657777]\n",
      "Celsius [24.63959039 12.31657777]\n"
     ]
    }
   ],
   "source": [
    "P_sol = 341.3\n",
    "a_O3 = 0.08\n",
    "r_SW = 0.1065\n",
    "a_SW = 0.1451\n",
    "\n",
    "r_SE = 0.17\n",
    "# First ozone layer\n",
    "O3_abs = a_O3*P_sol\n",
    "P_1 = P_sol - O3_abs\n",
    "\n",
    "# Atmosphere\n",
    "P_1r = P_1*r_SW\n",
    "P_1a = a_SW*(1 - r_SW)*P_1\n",
    "P_1t = (1-a_SW)*(1-r_SW)*P_1\n",
    "\n",
    "print(P_1, P_1r + P_1a + P_1t)\n",
    "\n",
    "# Earth\n",
    "P_Er = r_SE*P_1t\n",
    "P_Ea = (1-r_SE)*P_1t\n",
    "\n",
    "\n",
    "# Atmosphere\n",
    "P_2r = P_Er*r_SW\n",
    "P_2a = a_SW*(1-r_SW)*P_Er\n",
    "P_2t = (1-a_SW)*(1-r_SW)*P_Er\n",
    "\n",
    "# Ozone\n",
    "O3_abs2 = a_O3*(P_2t + P_1r)\n",
    "\n",
    "\n",
    "print(O3_abs + P_1a + P_Ea + P_2a + O3_abs2 + (1-a_O3)*(P_2t+ P_1r) + P_2r)\n",
    "\n",
    "# P_2r reflects back to Earth\n",
    "P_Er2 = P_2r*r_SE\n",
    "P_Ea2 = (1-r_SE)*P_2r\n",
    "\n",
    "print(\"P\", P_Ea2, P_Er2)\n",
    "\n",
    "print(O3_abs + P_1a + P_Ea + P_2a + O3_abs2 + (1-a_O3)*(P_2t+ P_1r) + P_Ea2 + P_Er2)\n",
    "\n",
    "# P_Er2 reflects to atmosphere\n",
    "P_3r = P_Er2*r_SW\n",
    "P_3a = a_SW*(1-r_SW)*P_Er2\n",
    "P_3t = (1-a_SW)*(1-r_SW)*P_Er2\n",
    "\n",
    "O3_abs3 = P_3t*a_O3\n",
    "\n",
    "print(P_3r)\n",
    "print(\"3:\", O3_abs + P_1a + P_Ea + P_2a + O3_abs2 + (1-a_O3)*(P_2t+ P_1r) + P_Ea2 + P_3r + P_3a + O3_abs3 + (1-a_O3)*P_3t)\n",
    "\n",
    "print(\"Space\", (1-a_O3)*(P_2t+ P_1r+ P_3t))\n",
    "\n",
    "P_abs_earth = P_Ea + P_Ea2 \n",
    "P_abs_atm = O3_abs + O3_abs2 + P_2a + P_1a + P_3a + O3_abs3\n",
    "\n",
    "a_LW = 0.8258\n",
    "sigma = 5.67e-8  # Stefan-Boltzmann constant, W/(m^2·K^4)\n",
    "f_A = 0.618\n",
    "alpha = 3\n",
    "beta = 4\n",
    "epsilon_A = 0.875\n",
    "\n",
    "def eqns(variables):\n",
    "    T_E, T_A = variables\n",
    "\n",
    "    P_non_rad = (alpha + beta) * (T_E - T_A)\n",
    "    #               P_abs_earth   +     P_A0_down    -    (P_EtoA + P_latent)    - P_E0\n",
    "    eqn1 = P_abs_earth + epsilon_A*sigma*T_A**4 - P_non_rad - sigma* T_E**4\n",
    "\n",
    "    #     P_abs_atm  +       a_LW*P_E0    +  (P_EtoA + P_latent)     - P_A0\n",
    "    eqn2 = P_abs_atm + a_LW*sigma* T_E**4 + P_non_rad - (1+f_A)*epsilon_A*sigma* T_A**4\n",
    "\n",
    "    return [eqn1, eqn2]\n",
    "T_init_guess = [298.0, 288.0]\n",
    "solution, info , ier, mesg = fsolve(eqns, T_init_guess, xtol=1e-8, full_output=True)\n",
    "\n",
    "print(\"Solution: \", solution)\n",
    "print(\"Celsius\", solution - 273.15)\n"
   ]
  },
  {
   "cell_type": "code",
   "execution_count": null,
   "metadata": {},
   "outputs": [],
   "source": []
  },
  {
   "cell_type": "markdown",
   "metadata": {},
   "source": [
    "# New calculations!!!"
   ]
  },
  {
   "cell_type": "code",
   "execution_count": 99,
   "metadata": {},
   "outputs": [
    {
     "name": "stdout",
     "output_type": "stream",
     "text": [
      "341.1941027133693\n"
     ]
    }
   ],
   "source": [
    "# Adding clouds\n",
    "P_sol = 341.3\n",
    "a_O3 = 0.08\n",
    "r_SW = 0.1065\n",
    "a_SW = 0.1451\n",
    "r_SE = 0.17\n",
    "\n",
    "CC = 0.66\n",
    "a_SC = 0.1239\n",
    "r_SC = 0.22\n",
    "\n",
    "a_LC = 0.622\n",
    "\n",
    "# First ozone layer\n",
    "O3_abs = a_O3*P_sol\n",
    "P_1 = P_sol - O3_abs\n",
    "\n",
    "# Atmosphere\n",
    "P_1r = P_1*r_SW\n",
    "P_1a = a_SW*(1 - r_SW)*P_1\n",
    "P_1t = (1-a_SW)*(1-r_SW)*P_1\n",
    "\n",
    "# Cloud\n",
    "P_1t_cloud = CC*P_1t\n",
    "C_r1 = r_SC*P_1t_cloud\n",
    "C_a1 = a_SC*(1-r_SC)*P_1t_cloud\n",
    "C_t1 = (1-a_SC)*(1-r_SC)*P_1t_cloud\n",
    "\n",
    "# Earth\n",
    "P_1t_earth = (1-CC)*(P_1t) + C_t1\n",
    "E_r1 = r_SE*P_1t_earth\n",
    "E_a1 = (1-r_SE)*P_1t_earth\n",
    "\n",
    "#Cloud 2\n",
    "P_2t_cloud = CC*E_r1\n",
    "C_r2 = r_SC*P_2t_cloud\n",
    "C_a2 = a_SC*(1-r_SC)*P_2t_cloud\n",
    "C_t2 = (1-a_SC)*(1-r_SC)*P_2t_cloud\n",
    "\n",
    "# Atmosphere 2\n",
    "P_2r = r_SW*((1-CC)*E_r1 +  C_r1 + C_t2)\n",
    "P_2a = a_SW*(1 - r_SW)*((1-CC)*E_r1+ C_r1 + C_t2)\n",
    "\n",
    "P_2t = (1-a_SW)*(1-r_SW)*((1-CC)*E_r1+C_r1 + C_t2)\n",
    "\n",
    "# Ozone \n",
    "O3_abs2 = (P_2t+P_1r)*a_O3\n",
    "Space = (1-a_O3)*(P_2t + P_1r)\n",
    "\n",
    "\n",
    "### P_2r from atmosphere\n",
    "P_3t_cloud = CC*P_2r\n",
    "C_r3 = r_SC*P_3t_cloud\n",
    "C_a3 = a_SC*(1-r_SC)*P_3t_cloud\n",
    "C_t3 = (1-a_SC)*(1-r_SC)*P_3t_cloud\n",
    "\n",
    "# Earth\n",
    "P_2t_earth = (1-CC)*(P_2r) + C_t3 + C_r2\n",
    "E_r2 = r_SE*P_2t_earth\n",
    "E_a2 = (1-r_SE)*P_2t_earth\n",
    "\n",
    "# Cloud\n",
    "P_4t_cloud = CC*E_r2\n",
    "C_r4 = r_SC*P_4t_cloud\n",
    "C_a4 = a_SC*(1-r_SC)*P_4t_cloud\n",
    "C_t4 = (1-a_SC)*(1-r_SC)*P_4t_cloud\n",
    "\n",
    "# Atmosphere 3\n",
    "P_3r = r_SW*((1-CC)*E_r2 + C_r3 + C_t4)\n",
    "P_3a = a_SW*(1 - r_SW)*((1-CC)*E_r2 + C_r3 + C_t4)\n",
    "P_3t = (1-a_SW)*(1-r_SW)*((1-CC)*E_r2 + C_r3 + C_t4)\n",
    "\n",
    "# Ozone \n",
    "O3_abs3 = P_3t*a_O3\n",
    "Space = (1-a_O3)*(P_2t + P_1r + P_3t)\n",
    "\n",
    "print(O3_abs + P_1a + C_a1 + E_a1 + C_a2 + P_2a + O3_abs2 + Space + C_a3 + E_a2 + P_3a + O3_abs3 + C_r4 + P_3r)  #, C_r4 + P_3r)\n"
   ]
  },
  {
   "cell_type": "code",
   "execution_count": 100,
   "metadata": {},
   "outputs": [
    {
     "data": {
      "text/plain": [
       "74.74637318475251"
      ]
     },
     "execution_count": 100,
     "metadata": {},
     "output_type": "execute_result"
    }
   ],
   "source": [
    "Space"
   ]
  },
  {
   "cell_type": "code",
   "execution_count": 101,
   "metadata": {},
   "outputs": [
    {
     "name": "stdout",
     "output_type": "stream",
     "text": [
      "Solution:  [288.95647474 288.00868875]\n",
      "Celsius [15.80647474 14.85868875]\n"
     ]
    }
   ],
   "source": [
    "P_abs_earth = E_a1 + E_a2\n",
    "P_abs_atm = P_1a + P_2a + P_3a + O3_abs + O3_abs2 + O3_abs3\n",
    "\n",
    "def eqns(variables):\n",
    "    T_E, T_A = variables\n",
    "\n",
    "    P_non_rad = (alpha + beta) * (T_E - T_A)\n",
    "\n",
    "    LW_C_r = CC*(P_non_rad + sigma* T_E**4)*r_LC\n",
    "    LW_C_a = CC*(P_non_rad + sigma* T_E**4)*(1-r_LC)*a_LC\n",
    "    LW_C_t1 = CC*(sigma* T_E**4)*(1-a_LC)*(1-r_LC)\n",
    "    LW_C_t2 = CC*(P_non_rad)*(1-a_LC)*(1-r_LC)\n",
    "\n",
    "    LW2_C_r = CC*(epsilon_A*sigma*T_A**4)*r_LC\n",
    "    LW2_C_a = CC*(epsilon_A*sigma*T_A**4)*(1-r_LC)*a_LC\n",
    "    LW2_C_t = CC*(epsilon_A*sigma*T_A**4)*(1-a_LC)*(1-r_LC)\n",
    "\n",
    "    #               P_abs_earth   +     P_A0_down    -    (P_EtoA + P_latent)    - P_E0\n",
    "    eqn1 = P_abs_earth + (1-CC)*epsilon_A*sigma*T_A**4 + LW2_C_t  - P_non_rad - sigma* T_E**4 + LW_C_r \n",
    "\n",
    "    #     P_abs_atm  +       a_LW*P_E0    +  (P_EtoA + P_latent)     - P_A0\n",
    "    eqn2 = P_abs_atm + a_LW*(LW_C_t1 +(1-CC)*sigma* T_E**4) + LW_C_t2 + (1-CC)*P_non_rad - (1+f_A)*epsilon_A*sigma* T_A**4 + LW2_C_r + (LW_C_a +LW2_C_a)\n",
    "\n",
    "    return [eqn1, eqn2]\n",
    "T_init_guess = [298.0, 288.0]\n",
    "solution, info , ier, mesg = fsolve(eqns, T_init_guess, xtol=1e-8, full_output=True)\n",
    "\n",
    "print(\"Solution: \", solution)\n",
    "print(\"Celsius\", solution - 273.15)\n",
    "\n",
    "\n"
   ]
  },
  {
   "cell_type": "code",
   "execution_count": null,
   "metadata": {},
   "outputs": [],
   "source": []
  }
 ],
 "metadata": {
  "kernelspec": {
   "display_name": "base",
   "language": "python",
   "name": "python3"
  },
  "language_info": {
   "codemirror_mode": {
    "name": "ipython",
    "version": 3
   },
   "file_extension": ".py",
   "mimetype": "text/x-python",
   "name": "python",
   "nbconvert_exporter": "python",
   "pygments_lexer": "ipython3",
   "version": "3.12.7"
  }
 },
 "nbformat": 4,
 "nbformat_minor": 2
}
